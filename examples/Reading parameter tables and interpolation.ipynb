{
 "cells": [
  {
   "cell_type": "code",
   "execution_count": null,
   "metadata": {
    "scrolled": true
   },
   "outputs": [],
   "source": [
    "## usual preamble\n",
    "from cubical import param_db\n",
    "import numpy as np\n",
    "from pylab import *\n",
    "%matplotlib inline"
   ]
  },
  {
   "cell_type": "code",
   "execution_count": null,
   "metadata": {
    "scrolled": true
   },
   "outputs": [],
   "source": [
    "# this is how you load a database\n",
    "db = param_db.load('D147-LO-NOIFS-NOPOL-4M5S.MS/G-field:0.parmdb')\n",
    "print db.names()\n",
    "# and this is how you save a database (but the only thing you can change are values and flags...)\n",
    "db.save('tmp_db')\n",
    "db = param_db.load('tmp_db')"
   ]
  },
  {
   "cell_type": "code",
   "execution_count": null,
   "metadata": {
    "scrolled": false
   },
   "outputs": [],
   "source": [
    "G = db['G:gain']                              # G is a Parameter object\n",
    "Gerr = db['G:gain.err']                              # G is a Parameter object\n",
    "print G.shape, G.axis_labels                  # axis info\n",
    "print \"can be interpolated over axes\",G.interpolation_axes         \n",
    "print \"antennas are\", G.grid[G.ax.ant]\n",
    "time, freq = G.grid[G.ax.time], G.grid[G.ax.freq]  # grid info\n",
    "print \"grid span is \",time[[0,-1]],freq[[0,-1]]\n",
    "# this is how to check for valid slices\n",
    "print \"valid antennas\",[ant for ant in range(len(G.grid[G.ax.ant])) if G.is_slice_valid(ant=ant,corr1=0,corr2=0)]"
   ]
  },
  {
   "cell_type": "code",
   "execution_count": null,
   "metadata": {},
   "outputs": [],
   "source": [
    "# this gets the \"raw\" solutions for a given slice (antenna, correlation, etc.), and also the grid they're defined on,\n",
    "# which could be a subset of the full grid given by the description\n",
    "ant,corr1,corr2 = 10,1,1\n",
    "g0, (time, freq) = G.get_slice(ant=ant,corr1=corr1,corr2=corr2)\n",
    "g0err, (time, freq) = Gerr.get_slice(ant=ant,corr1=corr1,corr2=corr2)\n",
    "print \"grid span is \",time[[0,-1]],freq[[0,-1]]\n",
    "S = slice(0,160)\n",
    "print g0.shape\n",
    "figure(figsize=(20,8))\n",
    "subplot(131)\n",
    "imshow(abs(g0[S]))\n",
    "colorbar()\n",
    "subplot(132)\n",
    "imshow(np.ma.angle(g0[S]))\n",
    "colorbar()\n",
    "subplot(133)\n",
    "imshow(g0err[S])\n",
    "colorbar()\n",
    "# you can see this is a masked array, so flagged-out solutions are not plotted"
   ]
  },
  {
   "cell_type": "code",
   "execution_count": null,
   "metadata": {},
   "outputs": [],
   "source": [
    "g = G.reinterpolate(ant=0,corr1=0,corr2=0)\n",
    "print g.shape\n",
    "# note that this has now been reinterpolated to a common time/freq grid, so the flagged values \n",
    "# are filled in by interpolations. Points *outside* the interpolatable domain are still masked\n",
    "imshow(abs(g[0,0:50]))\n",
    "colorbar()"
   ]
  },
  {
   "cell_type": "code",
   "execution_count": null,
   "metadata": {},
   "outputs": [],
   "source": [
    "# we can also reinterpolate at the exact points of the raw slice\n",
    "g = G.reinterpolate(ant=0,corr1=0,corr2=0,time=time[::10],freq=freq)\n",
    "print g.shape\n",
    "imshow(abs(g[0,:80,]))\n",
    "colorbar()\n",
    "# you can see this is a masked array, so flagged-out solutions are not plotted"
   ]
  },
  {
   "cell_type": "code",
   "execution_count": null,
   "metadata": {},
   "outputs": [],
   "source": [
    "fobj=file(\"tmp\",\"w\")\n",
    "import cPickle\n",
    "cPickle.dump(G,fobj)"
   ]
  }
 ],
 "metadata": {
  "kernelspec": {
   "display_name": "cc",
   "language": "python",
   "name": "cc"
  },
  "language_info": {
   "codemirror_mode": {
    "name": "ipython",
    "version": 2
   },
   "file_extension": ".py",
   "mimetype": "text/x-python",
   "name": "python",
   "nbconvert_exporter": "python",
   "pygments_lexer": "ipython2",
   "version": "2.7.12"
  }
 },
 "nbformat": 4,
 "nbformat_minor": 2
}
